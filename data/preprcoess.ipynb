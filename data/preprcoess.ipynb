{
 "cells": [
  {
   "cell_type": "code",
   "execution_count": 1,
   "metadata": {},
   "outputs": [],
   "source": [
    "import pandas as pd\n",
    "import numpy as np"
   ]
  },
  {
   "cell_type": "code",
   "execution_count": 2,
   "metadata": {},
   "outputs": [],
   "source": [
    "df = pd.read_excel(\"NAICS_Linkedin_industry_codes_v2.xlsx\")"
   ]
  },
  {
   "cell_type": "code",
   "execution_count": 3,
   "metadata": {},
   "outputs": [],
   "source": [
    "df['NAICS Label from US Census'] = df['NAICS Label from US Census'].fillna(df['Label'])"
   ]
  },
  {
   "cell_type": "code",
   "execution_count": 4,
   "metadata": {},
   "outputs": [],
   "source": [
    "df['Label'] = df['Label'].replace({\n",
    "    'Personal Care Product Manufacturing': 'Cosmetics Manufacturing',\n",
    "    'Climate Technology Product Manufacturing': 'Climate Technology Products Manufacturing',\n",
    "    'Leasing Real Estate': 'Real Estate',\n",
    "    'Leasing Real Estate Agents and Brokers': 'Real Estate Agents and Brokers',\n",
    "    'Accomodation Services': 'Accommodation Services'\n",
    "})"
   ]
  },
  {
   "cell_type": "code",
   "execution_count": 5,
   "metadata": {},
   "outputs": [],
   "source": [
    "additional_row = {\n",
    "    'NAICS Label from US Census': [np.nan] * 12,\n",
    "    'NAICS 2017 code': [np.nan] * 12,\n",
    "    'LinkedIn Industry Code': [np.nan] * 12,\n",
    "    'Label': ['Horticulture', 'Fuel Cell Manufacturing', 'Accessible Hardware Manufacturing', 'Smart Meter Manufacturing', 'Alternative Fuel Vehicle Manufacturing', 'Regenerative Design', 'Alternative Dispute Resolution', 'Business Intelligence Platforms', 'Business Content', 'Data Security Software Products', 'Retail Cosmetics', 'Wholesale Cosmetics']\n",
    "}"
   ]
  },
  {
   "cell_type": "code",
   "execution_count": 6,
   "metadata": {},
   "outputs": [],
   "source": [
    "df = pd.concat([df, pd.DataFrame(additional_row)], ignore_index=True)"
   ]
  },
  {
   "cell_type": "code",
   "execution_count": 7,
   "metadata": {},
   "outputs": [],
   "source": [
    "resource = pd.read_json(\"DeepSales_industry_resource_v2.json\")"
   ]
  },
  {
   "cell_type": "code",
   "execution_count": 8,
   "metadata": {},
   "outputs": [],
   "source": [
    "ind_to_id = resource.set_index('industry')['linkedinID'].to_dict()"
   ]
  },
  {
   "cell_type": "code",
   "execution_count": 9,
   "metadata": {},
   "outputs": [],
   "source": [
    "ind_to_desc = resource.set_index('industry')['Desc'].to_dict()"
   ]
  },
  {
   "cell_type": "code",
   "execution_count": 10,
   "metadata": {},
   "outputs": [],
   "source": [
    "df['LinkedIn Industry Code'] = df['Label'].map(ind_to_id)"
   ]
  },
  {
   "cell_type": "code",
   "execution_count": 11,
   "metadata": {},
   "outputs": [],
   "source": [
    "df.columns = ['NAICS_Label_from_US_Census', 'NAICS_2017_Code', 'DeepSales_Industry_Code', 'Label']"
   ]
  },
  {
   "cell_type": "code",
   "execution_count": 12,
   "metadata": {},
   "outputs": [],
   "source": [
    "df.to_excel(\"NAICS_DeepSales_industry_codes_v2.xlsx\", index=False)"
   ]
  },
  {
   "cell_type": "code",
   "execution_count": 13,
   "metadata": {},
   "outputs": [],
   "source": [
    "df = pd.read_excel(\"NAICS_DeepSales_industry_codes_v2.xlsx\")"
   ]
  },
  {
   "cell_type": "code",
   "execution_count": 14,
   "metadata": {},
   "outputs": [
    {
     "name": "stderr",
     "output_type": "stream",
     "text": [
      "/var/folders/s5/yyt01y4d3bvdnbhwztx46vhr0000gn/T/ipykernel_94337/4157387047.py:1: FutureWarning: A value is trying to be set on a copy of a DataFrame or Series through chained assignment using an inplace method.\n",
      "The behavior will change in pandas 3.0. This inplace method will never work because the intermediate object on which we are setting values always behaves as a copy.\n",
      "\n",
      "For example, when doing 'df[col].method(value, inplace=True)', try using 'df.method({col: value}, inplace=True)' or df[col] = df[col].method(value) instead, to perform the operation inplace on the original object.\n",
      "\n",
      "\n",
      "  df['NAICS_Label_from_US_Census'].fillna(df['Label'], inplace=True)\n"
     ]
    }
   ],
   "source": [
    "df['NAICS_Label_from_US_Census'].fillna(df['Label'], inplace=True)"
   ]
  },
  {
   "cell_type": "code",
   "execution_count": 15,
   "metadata": {},
   "outputs": [],
   "source": [
    "df.drop_duplicates(subset=['NAICS_Label_from_US_Census', 'Label'], keep='first', inplace=True)"
   ]
  },
  {
   "cell_type": "code",
   "execution_count": 16,
   "metadata": {},
   "outputs": [],
   "source": [
    "df = df[['NAICS_Label_from_US_Census', 'Label']]"
   ]
  },
  {
   "cell_type": "code",
   "execution_count": 17,
   "metadata": {},
   "outputs": [],
   "source": [
    "df.columns = ['sub_industry', 'industry']"
   ]
  },
  {
   "cell_type": "code",
   "execution_count": 18,
   "metadata": {},
   "outputs": [],
   "source": [
    "df['description'] = df['industry'].map(ind_to_desc)"
   ]
  },
  {
   "cell_type": "code",
   "execution_count": 19,
   "metadata": {},
   "outputs": [],
   "source": [
    "df = df[['industry', 'description', 'sub_industry']]"
   ]
  },
  {
   "cell_type": "code",
   "execution_count": 20,
   "metadata": {},
   "outputs": [
    {
     "data": {
      "text/html": [
       "<div>\n",
       "<style scoped>\n",
       "    .dataframe tbody tr th:only-of-type {\n",
       "        vertical-align: middle;\n",
       "    }\n",
       "\n",
       "    .dataframe tbody tr th {\n",
       "        vertical-align: top;\n",
       "    }\n",
       "\n",
       "    .dataframe thead th {\n",
       "        text-align: right;\n",
       "    }\n",
       "</style>\n",
       "<table border=\"1\" class=\"dataframe\">\n",
       "  <thead>\n",
       "    <tr style=\"text-align: right;\">\n",
       "      <th></th>\n",
       "      <th>industry</th>\n",
       "      <th>description</th>\n",
       "      <th>sub_industry</th>\n",
       "    </tr>\n",
       "  </thead>\n",
       "  <tbody>\n",
       "    <tr>\n",
       "      <th>0</th>\n",
       "      <td>Farming, Ranching, Forestry</td>\n",
       "      <td>This industry includes entities that grow crop...</td>\n",
       "      <td>Agriculture, Forestry, Fishing and Hunting</td>\n",
       "    </tr>\n",
       "    <tr>\n",
       "      <th>1</th>\n",
       "      <td>Farming</td>\n",
       "      <td>This industry includes entities that grow crop...</td>\n",
       "      <td>Crop Production</td>\n",
       "    </tr>\n",
       "    <tr>\n",
       "      <th>2</th>\n",
       "      <td>Ranching and Fisheries</td>\n",
       "      <td>This industry includes entities that raise or ...</td>\n",
       "      <td>Animal Production and Aquaculture</td>\n",
       "    </tr>\n",
       "    <tr>\n",
       "      <th>3</th>\n",
       "      <td>Forestry and Logging</td>\n",
       "      <td>This industry includes entities that grow and ...</td>\n",
       "      <td>Forestry and Logging</td>\n",
       "    </tr>\n",
       "    <tr>\n",
       "      <th>4</th>\n",
       "      <td>Farming, Ranching, Forestry</td>\n",
       "      <td>This industry includes entities that grow crop...</td>\n",
       "      <td>Fishing, Hunting and Trapping</td>\n",
       "    </tr>\n",
       "    <tr>\n",
       "      <th>...</th>\n",
       "      <td>...</td>\n",
       "      <td>...</td>\n",
       "      <td>...</td>\n",
       "    </tr>\n",
       "    <tr>\n",
       "      <th>2259</th>\n",
       "      <td>Business Intelligence Platforms</td>\n",
       "      <td>This industry includes entities that provide c...</td>\n",
       "      <td>Business Intelligence Platforms</td>\n",
       "    </tr>\n",
       "    <tr>\n",
       "      <th>2260</th>\n",
       "      <td>Business Content</td>\n",
       "      <td>This industry includes entities that provide n...</td>\n",
       "      <td>Business Content</td>\n",
       "    </tr>\n",
       "    <tr>\n",
       "      <th>2261</th>\n",
       "      <td>Data Security Software Products</td>\n",
       "      <td>This industry includes entities that produce s...</td>\n",
       "      <td>Data Security Software Products</td>\n",
       "    </tr>\n",
       "    <tr>\n",
       "      <th>2262</th>\n",
       "      <td>Retail Cosmetics</td>\n",
       "      <td>This industry includes entities that retail pe...</td>\n",
       "      <td>Retail Cosmetics</td>\n",
       "    </tr>\n",
       "    <tr>\n",
       "      <th>2263</th>\n",
       "      <td>Wholesale Cosmetics</td>\n",
       "      <td>This industry includes entities that distribut...</td>\n",
       "      <td>Wholesale Cosmetics</td>\n",
       "    </tr>\n",
       "  </tbody>\n",
       "</table>\n",
       "<p>1564 rows × 3 columns</p>\n",
       "</div>"
      ],
      "text/plain": [
       "                             industry  \\\n",
       "0         Farming, Ranching, Forestry   \n",
       "1                             Farming   \n",
       "2              Ranching and Fisheries   \n",
       "3                Forestry and Logging   \n",
       "4         Farming, Ranching, Forestry   \n",
       "...                               ...   \n",
       "2259  Business Intelligence Platforms   \n",
       "2260                 Business Content   \n",
       "2261  Data Security Software Products   \n",
       "2262                 Retail Cosmetics   \n",
       "2263              Wholesale Cosmetics   \n",
       "\n",
       "                                            description  \\\n",
       "0     This industry includes entities that grow crop...   \n",
       "1     This industry includes entities that grow crop...   \n",
       "2     This industry includes entities that raise or ...   \n",
       "3     This industry includes entities that grow and ...   \n",
       "4     This industry includes entities that grow crop...   \n",
       "...                                                 ...   \n",
       "2259  This industry includes entities that provide c...   \n",
       "2260  This industry includes entities that provide n...   \n",
       "2261  This industry includes entities that produce s...   \n",
       "2262  This industry includes entities that retail pe...   \n",
       "2263  This industry includes entities that distribut...   \n",
       "\n",
       "                                    sub_industry  \n",
       "0     Agriculture, Forestry, Fishing and Hunting  \n",
       "1                                Crop Production  \n",
       "2              Animal Production and Aquaculture  \n",
       "3                           Forestry and Logging  \n",
       "4                  Fishing, Hunting and Trapping  \n",
       "...                                          ...  \n",
       "2259             Business Intelligence Platforms  \n",
       "2260                            Business Content  \n",
       "2261             Data Security Software Products  \n",
       "2262                            Retail Cosmetics  \n",
       "2263                         Wholesale Cosmetics  \n",
       "\n",
       "[1564 rows x 3 columns]"
      ]
     },
     "execution_count": 20,
     "metadata": {},
     "output_type": "execute_result"
    }
   ],
   "source": [
    "df"
   ]
  },
  {
   "cell_type": "code",
   "execution_count": 21,
   "metadata": {},
   "outputs": [],
   "source": [
    "df.to_csv(\"sub_industry.csv\", index=False)"
   ]
  }
 ],
 "metadata": {
  "kernelspec": {
   "display_name": "ai",
   "language": "python",
   "name": "python3"
  },
  "language_info": {
   "codemirror_mode": {
    "name": "ipython",
    "version": 3
   },
   "file_extension": ".py",
   "mimetype": "text/x-python",
   "name": "python",
   "nbconvert_exporter": "python",
   "pygments_lexer": "ipython3",
   "version": "3.11.10"
  }
 },
 "nbformat": 4,
 "nbformat_minor": 2
}
