{
 "cells": [
  {
   "cell_type": "code",
   "execution_count": 1,
   "metadata": {},
   "outputs": [],
   "source": [
    "import json\n",
    "import pandas as pd\n",
    "import numpy as np"
   ]
  },
  {
   "cell_type": "code",
   "execution_count": 2,
   "metadata": {},
   "outputs": [],
   "source": [
    "df = pd.read_csv(\"sub_industry_keywords.csv\")"
   ]
  },
  {
   "cell_type": "code",
   "execution_count": 3,
   "metadata": {},
   "outputs": [],
   "source": [
    "df['keywords'] = df['keywords'].str.lower()"
   ]
  },
  {
   "cell_type": "code",
   "execution_count": 4,
   "metadata": {},
   "outputs": [],
   "source": [
    "df = df.groupby('industry')['keywords'].apply(lambda x: ', '.join(set(keyword.strip() for keyword in ', '.join(x).split(', ')))).reset_index()"
   ]
  },
  {
   "cell_type": "code",
   "execution_count": 5,
   "metadata": {},
   "outputs": [],
   "source": [
    "resource = pd.read_json(\"DeepSales_industry_resource_v2.json\")"
   ]
  },
  {
   "cell_type": "code",
   "execution_count": 6,
   "metadata": {},
   "outputs": [],
   "source": [
    "ind_to_id = resource.set_index('industry')['linkedinID'].to_dict()"
   ]
  },
  {
   "cell_type": "code",
   "execution_count": 7,
   "metadata": {},
   "outputs": [],
   "source": [
    "ind_to_desc = resource.set_index('industry')['Desc'].to_dict()"
   ]
  },
  {
   "cell_type": "code",
   "execution_count": 8,
   "metadata": {},
   "outputs": [],
   "source": [
    "df['code'] = df['industry'].map(ind_to_id)"
   ]
  },
  {
   "cell_type": "code",
   "execution_count": 9,
   "metadata": {},
   "outputs": [],
   "source": [
    "df['description'] = df['industry'].map(ind_to_desc)"
   ]
  },
  {
   "cell_type": "code",
   "execution_count": 10,
   "metadata": {},
   "outputs": [],
   "source": [
    "df = df[['industry', 'code', 'description', 'keywords']]"
   ]
  },
  {
   "cell_type": "code",
   "execution_count": 11,
   "metadata": {},
   "outputs": [],
   "source": [
    "df.rename(columns={'label': 'industry'}, inplace=True)"
   ]
  },
  {
   "cell_type": "code",
   "execution_count": 12,
   "metadata": {},
   "outputs": [
    {
     "data": {
      "text/html": [
       "<div>\n",
       "<style scoped>\n",
       "    .dataframe tbody tr th:only-of-type {\n",
       "        vertical-align: middle;\n",
       "    }\n",
       "\n",
       "    .dataframe tbody tr th {\n",
       "        vertical-align: top;\n",
       "    }\n",
       "\n",
       "    .dataframe thead th {\n",
       "        text-align: right;\n",
       "    }\n",
       "</style>\n",
       "<table border=\"1\" class=\"dataframe\">\n",
       "  <thead>\n",
       "    <tr style=\"text-align: right;\">\n",
       "      <th></th>\n",
       "      <th>industry</th>\n",
       "      <th>code</th>\n",
       "      <th>description</th>\n",
       "      <th>keywords</th>\n",
       "    </tr>\n",
       "  </thead>\n",
       "  <tbody>\n",
       "    <tr>\n",
       "      <th>0</th>\n",
       "      <td>Abrasives and Nonmetallic Minerals Manufacturing</td>\n",
       "      <td>799</td>\n",
       "      <td>This industry includes entities that manufactu...</td>\n",
       "      <td>precision abrasives, mineral aggregates, batts...</td>\n",
       "    </tr>\n",
       "    <tr>\n",
       "      <th>1</th>\n",
       "      <td>Accessible Architecture and Design</td>\n",
       "      <td>3246</td>\n",
       "      <td>This industry includes entities that plan and ...</td>\n",
       "      <td>inclusive architecture, design audits, public ...</td>\n",
       "    </tr>\n",
       "    <tr>\n",
       "      <th>2</th>\n",
       "      <td>Accessible Hardware Manufacturing</td>\n",
       "      <td>3245</td>\n",
       "      <td>This industry includes entities that manufactu...</td>\n",
       "      <td>braille displays, alternative input devices, t...</td>\n",
       "    </tr>\n",
       "    <tr>\n",
       "      <th>3</th>\n",
       "      <td>Accommodation Services</td>\n",
       "      <td>2190</td>\n",
       "      <td>This industry includes entities that provide s...</td>\n",
       "      <td>mountain biking camps, motel services, travel ...</td>\n",
       "    </tr>\n",
       "    <tr>\n",
       "      <th>4</th>\n",
       "      <td>Accounting</td>\n",
       "      <td>47</td>\n",
       "      <td>This industry includes entities that make acco...</td>\n",
       "      <td>financial management, accounting policies, pay...</td>\n",
       "    </tr>\n",
       "    <tr>\n",
       "      <th>...</th>\n",
       "      <td>...</td>\n",
       "      <td>...</td>\n",
       "      <td>...</td>\n",
       "      <td>...</td>\n",
       "    </tr>\n",
       "    <tr>\n",
       "      <th>431</th>\n",
       "      <td>Wireless Services</td>\n",
       "      <td>119</td>\n",
       "      <td>This industry includes entities that operate a...</td>\n",
       "      <td>5g technology, telecom providers, prepaid serv...</td>\n",
       "    </tr>\n",
       "    <tr>\n",
       "      <th>432</th>\n",
       "      <td>Women's Handbag Manufacturing</td>\n",
       "      <td>625</td>\n",
       "      <td>This industry includes entities that manufactu...</td>\n",
       "      <td>crossbody bags, artisan handbags, handbag cust...</td>\n",
       "    </tr>\n",
       "    <tr>\n",
       "      <th>433</th>\n",
       "      <td>Wood Product Manufacturing</td>\n",
       "      <td>784</td>\n",
       "      <td>This industry includes entities that manufactu...</td>\n",
       "      <td>window casings, wood finishing services, truss...</td>\n",
       "    </tr>\n",
       "    <tr>\n",
       "      <th>434</th>\n",
       "      <td>Writing and Editing</td>\n",
       "      <td>103</td>\n",
       "      <td>This industry includes entities that create do...</td>\n",
       "      <td>document revisions, online editing, writing co...</td>\n",
       "    </tr>\n",
       "    <tr>\n",
       "      <th>435</th>\n",
       "      <td>Zoos and Botanical Gardens</td>\n",
       "      <td>2163</td>\n",
       "      <td>This industry includes entities that preserve ...</td>\n",
       "      <td>seasonal events, botanical research, garden wo...</td>\n",
       "    </tr>\n",
       "  </tbody>\n",
       "</table>\n",
       "<p>436 rows × 4 columns</p>\n",
       "</div>"
      ],
      "text/plain": [
       "                                             industry  code  \\\n",
       "0    Abrasives and Nonmetallic Minerals Manufacturing   799   \n",
       "1                  Accessible Architecture and Design  3246   \n",
       "2                   Accessible Hardware Manufacturing  3245   \n",
       "3                              Accommodation Services  2190   \n",
       "4                                          Accounting    47   \n",
       "..                                                ...   ...   \n",
       "431                                 Wireless Services   119   \n",
       "432                     Women's Handbag Manufacturing   625   \n",
       "433                        Wood Product Manufacturing   784   \n",
       "434                               Writing and Editing   103   \n",
       "435                        Zoos and Botanical Gardens  2163   \n",
       "\n",
       "                                           description  \\\n",
       "0    This industry includes entities that manufactu...   \n",
       "1    This industry includes entities that plan and ...   \n",
       "2    This industry includes entities that manufactu...   \n",
       "3    This industry includes entities that provide s...   \n",
       "4    This industry includes entities that make acco...   \n",
       "..                                                 ...   \n",
       "431  This industry includes entities that operate a...   \n",
       "432  This industry includes entities that manufactu...   \n",
       "433  This industry includes entities that manufactu...   \n",
       "434  This industry includes entities that create do...   \n",
       "435  This industry includes entities that preserve ...   \n",
       "\n",
       "                                              keywords  \n",
       "0    precision abrasives, mineral aggregates, batts...  \n",
       "1    inclusive architecture, design audits, public ...  \n",
       "2    braille displays, alternative input devices, t...  \n",
       "3    mountain biking camps, motel services, travel ...  \n",
       "4    financial management, accounting policies, pay...  \n",
       "..                                                 ...  \n",
       "431  5g technology, telecom providers, prepaid serv...  \n",
       "432  crossbody bags, artisan handbags, handbag cust...  \n",
       "433  window casings, wood finishing services, truss...  \n",
       "434  document revisions, online editing, writing co...  \n",
       "435  seasonal events, botanical research, garden wo...  \n",
       "\n",
       "[436 rows x 4 columns]"
      ]
     },
     "execution_count": 12,
     "metadata": {},
     "output_type": "execute_result"
    }
   ],
   "source": [
    "df"
   ]
  },
  {
   "cell_type": "code",
   "execution_count": 13,
   "metadata": {},
   "outputs": [],
   "source": [
    "df.to_csv('industry_keywords.csv', index=False)"
   ]
  }
 ],
 "metadata": {
  "kernelspec": {
   "display_name": "ai",
   "language": "python",
   "name": "python3"
  },
  "language_info": {
   "codemirror_mode": {
    "name": "ipython",
    "version": 3
   },
   "file_extension": ".py",
   "mimetype": "text/x-python",
   "name": "python",
   "nbconvert_exporter": "python",
   "pygments_lexer": "ipython3",
   "version": "3.11.10"
  }
 },
 "nbformat": 4,
 "nbformat_minor": 2
}
